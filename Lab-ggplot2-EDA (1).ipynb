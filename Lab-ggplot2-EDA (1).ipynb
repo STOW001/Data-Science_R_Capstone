{
 "cells": [
  {
   "cell_type": "markdown",
   "metadata": {},
   "source": [
    "<center>\n",
    "<img src=\"https://cf-courses-data.s3.us.cloud-object-storage.appdomain.cloud/IBMDeveloperSkillsNetwork-RP0321EN-SkillsNetwork/labs/module_1/images/SN_web_lightmode.png\" width=\"300\"> \n",
    "</center>\n",
    "\n",
    "# Assignment: Exploratory Data Analysis with tidyverse and ggplot2\n",
    "Estimated time needed: 60 minutes\n",
    "\n",
    "\n",
    "# Introduction and Objectives\n",
    "In this Lab, you will use an R notebook to perform exploratory data analysis using tidyverse and the ggplot2 R packages. \n",
    "\n",
    "You will start by doing some minor data preparation on the SEOUL BIKE SHARING dataset. Then you will generate and explore some statistics from the resulting dataframe and make some observations. Finally, you will generate some informative plots using the ggplot2 library. \n",
    "\n",
    "Your primary objective is to gather insights from your exploratory analysis. These findings will be part of your story that you will create your final capstone presentation. \n",
    "\n",
    "Visualization is a very powerful tool for better understanding your data and finding patterns that may exist in it. You can use scatterplots, for example, to display how well two features are correlated with, or similar to each other.  When data are highly correlated, it means they vary in similar ways, and so their graphs will look similar (once scaled to a common scale). We can say one variable 'explains' the variation in the other, and that they are 'covariates'. There could be a causal relationship between covariates, meaning that changing one variable has the effect of changing the other, but this need not be the case. Perhaps there is another factor which causes both covariates to respond to variations, or the similarity could be a random coincidence. Either way, the behaviour of one variable can be used to predict the behaviour of the other. The key practical difference is that in the causal case, if we can influence the first variable then we can have a corresponding causal influence on the second. Like turning a light switch on or off to control the light in the room, the state of the switch controls the state of the light bulb. This is an important topic for data science that is beyond our current scope, but we invite you to delve deeper into the subject as you progress in your career$.^{1}$\n",
    "\n",
    "Other ways visualization can inform your analysis is with spotting outliers and anomalous behaviour in your features. Boxplots are informative in these regards. You can also gain insights about any clear trends and anomalies that may be present in a variable, simply by plotting it directly. For instance, time series and spatial data are particularly interesting kinds of variables. Outliers can easily consume the range of your plot though, making your data look like a featureless flat line in comparison to these points. So some cleaning, namely outlier removal, may be required to get a clearer picture.\n",
    "\n",
    "A word of caution: be skeptical about any patterns you find, especially in smaller datasets. In very simple terms, it is true that any two points randomly placed in space always define a unique line; but add a third random point, and it is very unlikely that it will land on that same line. This suggests one of the main advantages of 'big data' - any patterns that emerge in very large datasets are far more likely to persist on unseen data than those found in small datasets.\n",
    "\n",
    "All right, let's move along and get started with our exploratory analysis!\n"
   ]
  },
  {
   "cell_type": "markdown",
   "metadata": {},
   "source": [
    "\n",
    "### For reference, we include the Attribute Information for the `seoul_bike_sharing` dataset:\n",
    "\n",
    "- DATE - format: \"2017-12-01\"\n",
    "- RENTED_BIKE_COUNT - Count of bikes rented at each hour\n",
    "- HOUR - Hour of the day\n",
    "- TEMPERATURE - Celsius\n",
    "- HUMIDITY - %\n",
    "- Windspeed - m/s\n",
    "- VISIBILITY - 10m\n",
    "- DEW_POINT_TEMPERATURE - Celsius\n",
    "- SOLAR_RADIATION - MJ/m2\n",
    "- RAINFALL - mm\n",
    "- SNOWFALL - cm\n",
    "- SEASONS -  \"Autumn\",\"Spring\",..\n",
    "- HOLIDAY - \"Holiday\", \"No holiday\"\n",
    "- FUNCTIONING_DAY - \"Yes\", \"No\"\n",
    "\n"
   ]
  },
  {
   "cell_type": "markdown",
   "metadata": {},
   "source": [
    "## Load the seoul_bike_sharing data into a dataframe\n",
    "\n",
    "Use the following URL to load your dataset.   \n",
    "The dataset is already clean, but you will still need to pay careful attention to data types, especially dates, which you may need to coerce. \n",
    "Also, ensure any categorical variables get typed as factors. \n",
    "\n",
    "```R\n",
    "seoul_bike_sharing <- \"https://cf-courses-data.s3.us.cloud-object-storage.appdomain.cloud/IBMDeveloperSkillsNetwork-RP0321EN-SkillsNetwork/labs/datasets/seoul_bike_sharing.csv\"  \n",
    "\n",
    "```\n"
   ]
  },
  {
   "cell_type": "markdown",
   "metadata": {},
   "source": [
    "### Task 1 - Load the dataset\n",
    "Ensure you read `DATE` as type `character`.\n",
    "### Solution 1\n"
   ]
  },
  {
   "cell_type": "code",
   "execution_count": null,
   "metadata": {},
   "outputs": [
    {
     "name": "stderr",
     "output_type": "stream",
     "text": [
      "also installing the dependencies ‘bit’, ‘cachem’, ‘rappdirs’, ‘bit64’, ‘processx’, ‘memoise’, ‘blob’, ‘lifecycle’, ‘tidyselect’, ‘vctrs’, ‘data.table’, ‘scales’, ‘withr’, ‘gargle’, ‘glue’, ‘ids’, ‘cpp11’, ‘ellipsis’, ‘timechange’, ‘systemfonts’, ‘textshaping’, ‘vroom’, ‘tzdb’, ‘callr’, ‘stringi’, ‘broom’, ‘conflicted’, ‘cli’, ‘dbplyr’, ‘dplyr’, ‘dtplyr’, ‘forcats’, ‘ggplot2’, ‘googledrive’, ‘googlesheets4’, ‘haven’, ‘hms’, ‘httr’, ‘jsonlite’, ‘lubridate’, ‘magrittr’, ‘modelr’, ‘pillar’, ‘purrr’, ‘ragg’, ‘readr’, ‘readxl’, ‘reprex’, ‘rlang’, ‘rstudioapi’, ‘rvest’, ‘stringr’, ‘tibble’, ‘tidyr’, ‘xml2’\n",
      "\n",
      "Warning message in install.packages(\"tidyverse\"):\n",
      "“installation of package ‘systemfonts’ had non-zero exit status”Warning message in install.packages(\"tidyverse\"):\n",
      "“installation of package ‘textshaping’ had non-zero exit status”Warning message in install.packages(\"tidyverse\"):\n",
      "“installation of package ‘ragg’ had non-zero exit status”"
     ]
    }
   ],
   "source": [
    "install.packages(\"tidyverse\")"
   ]
  },
  {
   "cell_type": "code",
   "execution_count": null,
   "metadata": {},
   "outputs": [],
   "source": [
    "library(tidyverse)"
   ]
  },
  {
   "cell_type": "code",
   "execution_count": null,
   "metadata": {},
   "outputs": [],
   "source": [
    "install.packages(\"rlang\")\n",
    "install.packages(\"ggplot2\")\n",
    "install.packages(\"tidymodels\")"
   ]
  },
  {
   "cell_type": "code",
   "execution_count": null,
   "metadata": {},
   "outputs": [],
   "source": [
    "library(rlang)\n",
    "library(tidymodels)"
   ]
  },
  {
   "cell_type": "code",
   "execution_count": null,
   "metadata": {},
   "outputs": [],
   "source": [
    "# url where the data is located\n",
    "url <- \"https://cf-courses-data.s3.us.cloud-object-storage.appdomain.cloud/IBMDeveloperSkillsNetwork-RP0321EN-SkillsNetwork/labs/datasets/seoul_bike_sharing.csv\"\n",
    "\n",
    "# download the file\n",
    "download.file(url, destfile = \"seoul_bike_sharing.csv\")"
   ]
  },
  {
   "cell_type": "code",
   "execution_count": null,
   "metadata": {},
   "outputs": [],
   "source": [
    "# read_csv only \n",
    "seoul_bike_sharing <- read_csv(\"seoul_bike_sharing.csv\", )"
   ]
  },
  {
   "cell_type": "markdown",
   "metadata": {},
   "source": [
    "### Task 2 - Recast `DATE` as a date\n",
    "Use the format of the data, namely \"%d/%m/%Y\".\n",
    "### Solution 2\n"
   ]
  },
  {
   "cell_type": "code",
   "execution_count": null,
   "metadata": {},
   "outputs": [],
   "source": [
    "seoul_bike_sharing <- seoul_bike_sharing %>% as.Date(DATE, format = \"%d/%m/%Y\")\n",
    "head(seoul_bike_sharing)"
   ]
  },
  {
   "cell_type": "markdown",
   "metadata": {},
   "source": [
    "### Task 3 - Cast `HOURS` as a categorical variable\n",
    "Also, coerce its levels to be an ordered sequence.  This will ensure your visualizations correctly utilize `HOURS` as a discrete variable with the expected ordering.  \n",
    "### Solution 3\n"
   ]
  },
  {
   "cell_type": "code",
   "execution_count": null,
   "metadata": {},
   "outputs": [],
   "source": [
    "seoul_bike_sharing %>% mutate(seoul_bike_sharing$HOUR == as.factor(seoul_bike_sharing$HOUR))\n",
    "\n",
    "# Using mutate() function to convert HOUR column into character type\n",
    "seoul_bike_sharing_2 <- seoul_bike_sharing %>% \n",
    "        mutate(HOUR = as.character(HOUR))\n",
    "\n",
    "is.character(seoul_bike_sharing_2$HOUR)\n",
    "head(seoul_bike_sharing_2, 24)"
   ]
  },
  {
   "cell_type": "markdown",
   "metadata": {},
   "source": [
    "### Check the structure of the dataframe\n"
   ]
  },
  {
   "cell_type": "code",
   "execution_count": null,
   "metadata": {},
   "outputs": [],
   "source": [
    "str(seoul_bike_sharing_2)"
   ]
  },
  {
   "cell_type": "markdown",
   "metadata": {},
   "source": [
    "### Finally, ensure there are no missing values\n"
   ]
  },
  {
   "cell_type": "code",
   "execution_count": null,
   "metadata": {},
   "outputs": [],
   "source": [
    "sum(is.na(seoul_bike_sharing_2))"
   ]
  },
  {
   "cell_type": "markdown",
   "metadata": {},
   "source": [
    "## Descriptive Statistics\n",
    "\n",
    "Now you are all set to take a look at some high level statistics of the `seoul_bike_sharing` dataset. \n"
   ]
  },
  {
   "cell_type": "markdown",
   "metadata": {},
   "source": [
    "### Task 4 - Dataset Summary\n",
    "Use the base R `sumamry()` function to describe the `seoul_bike_sharing` dataset.\n",
    "\n",
    "### Solution 4\n"
   ]
  },
  {
   "cell_type": "code",
   "execution_count": null,
   "metadata": {},
   "outputs": [],
   "source": [
    "summary(seoul_bike_sharing_2)"
   ]
  },
  {
   "cell_type": "markdown",
   "metadata": {},
   "source": [
    "### Some Basic Observations:\n",
    "- We can see from `DATE` that we have exactly a full year of data.  \n",
    "- No records have zero bike counts.  \n",
    "- Spring and Winter have the same count of records, while autumn has the least and Summer has the most.\n",
    "- Temperature has a large range, so we might expect it to explain at least some of the variation in bike rentals.  \n",
    "- Precipitation seems to be quite rare, only happening in the fourth quartiles for both `RAINFALL` and `SNOWFALL`.\n",
    "- The average `WINDSPEED` is very light at only 1.7 m/s, and even the maximum is only a moderate breeze (Google 'Beaufort Wind Scale' to find the different wind descriptions)  \n",
    "\n",
    "By now, you might agree that Exploratory Data Analysis can create more questions than answers. That's okay - you'll have a much deeper understanding and appreciation for your data as a result! \n",
    "\n",
    "\n",
    "### Task 5 - Based on the above stats, calculate how many Holidays there are.\n",
    "### Solution 5:\n"
   ]
  },
  {
   "cell_type": "code",
   "execution_count": 7,
   "metadata": {},
   "outputs": [
    {
     "ename": "ERROR",
     "evalue": "Error in parse(text = x, srcfile = src): <text>:1:84: unexpected '='\n1: num_records_hols <- nrow(subset(seoul_bike_sharing_2, seoul_bike_sharing_2$HOLIDAY =\n                                                                                       ^\n",
     "execution_count": 7,
     "output_type": "error",
     "traceback": [
      "Error in parse(text = x, srcfile = src): <text>:1:84: unexpected '='\n1: num_records_hols <- nrow(subset(seoul_bike_sharing_2, seoul_bike_sharing_2$HOLIDAY =\n                                                                                       ^\nTraceback:\n"
     ]
    }
   ],
   "source": [
    "num_records_hols <- nrow(subset(seoul_bike_sharing_2, seoul_bike_sharing_2$HOLIDAY = 'Holiday'))"
   ]
  },
  {
   "cell_type": "markdown",
   "metadata": {},
   "source": [
    "### Task 6 - Calculate the percentage of records that fall on a holiday.\n",
    "### Solution 6\n"
   ]
  },
  {
   "cell_type": "code",
   "execution_count": null,
   "metadata": {},
   "outputs": [],
   "source": [
    "percent_records <- 100 * nrow(subset(seoul_bike_sharing_2, seoul_bike_sharing_2$HOLIDAY = 'Holiday')) / nrow((seoul_bike_sharing_2)"
   ]
  },
  {
   "cell_type": "markdown",
   "metadata": {},
   "source": [
    "### Task 7 - Given there is exactly a full year of data, determine how many records we expect to have.\n",
    "### Solution 7\n"
   ]
  },
  {
   "cell_type": "code",
   "execution_count": null,
   "metadata": {},
   "outputs": [],
   "source": [
    "min_date <- min(seoul_bike_sharing_2$DATE)\n",
    "max_date <- max(seoul_bike_sharing_2$DATE)\n",
    "num_days_year <- max_date - min_date + 1\n",
    "\n",
    "expected_records <- num_days_year * nrow(distinct(seoul_bike_sharing_2$HOUR, .keep_all= TRUE))"
   ]
  },
  {
   "cell_type": "markdown",
   "metadata": {},
   "source": [
    "### Task 8 - Given the observations for the 'FUNCTIONING_DAY' how many records must there be?\n",
    "### Solution 8\n"
   ]
  },
  {
   "cell_type": "code",
   "execution_count": 9,
   "metadata": {},
   "outputs": [
    {
     "ename": "ERROR",
     "evalue": "Error in nrow(seoul_bike_sharing$FUNCTIONING_DAY): object 'seoul_bike_sharing' not found\n",
     "execution_count": 9,
     "output_type": "error",
     "traceback": [
      "Error in nrow(seoul_bike_sharing$FUNCTIONING_DAY): object 'seoul_bike_sharing' not found\nTraceback:\n",
      "1. nrow(seoul_bike_sharing$FUNCTIONING_DAY)"
     ]
    }
   ],
   "source": [
    "nrow(seoul_bike_sharing_2$FUNCTIONING_DAY)"
   ]
  },
  {
   "cell_type": "markdown",
   "metadata": {},
   "source": [
    "## Drilling Down\n",
    "Let's calculate some seasonally aggregated measures to help build some more context.  \n",
    "### Task 9 - Load the dplyr package, group the data by `SEASONS`, and use the `summarize()` function to calculate the seasonal total rainfall and snowfall.\n",
    "### Solution 9\n"
   ]
  },
  {
   "cell_type": "code",
   "execution_count": null,
   "metadata": {},
   "outputs": [],
   "source": [
    "library(dplyr)\n",
    "\n",
    "seoul_bike_sharing_2 %>% group_by(SEASONS) %>% summarise(seoul_bike_sharing_2$RAINFALL,seoul_bike_sharing_2$SNOWFALL)"
   ]
  },
  {
   "cell_type": "markdown",
   "metadata": {},
   "source": [
    "Wow, that seems like a lot of snow.  \n",
    "Now that you have some ideas about what sorts of questions can be answered through descriptive statistics, let's start visualizing the data.  \n"
   ]
  },
  {
   "cell_type": "markdown",
   "metadata": {},
   "source": [
    "## Data Visualization\n",
    "\n",
    "Let's take a closer look at our main variable of interest, namely, `RENTED_BIKE_COUNT`.  \n",
    "Think of this variable as the key _measure_ or _dependent variable_ in your analysis.  \n",
    "\n",
    "Indeed, it is a measured quantity, and we expect it to depend on factors such as the expected weather.  \n",
    "Evidently, if the immediate or forecasted weather is harsh or unpleasant, many people could choose to use alternate transit or simply wait for better weather rather than rent a bike.   \n",
    "On the other hand, many people may be inspired to ride under pleasant expected weather conditions.  \n",
    "\n",
    "The weather is largely infuenced by the time of day and the seasons, so these are also factors.  \n",
    "The time of day, the day of week, and Holidays all matter because they control commuting schedules.  \n",
    "\n",
    "Finer granularity data such as a unique ID for each bike and/or rider, when and where each bike was rented, or even finer - a history of when and where each bike was used or idle - would be interesting as well.\n",
    "\n",
    "\n",
    "### Load the ggplot2 package so we can generate some data visualizations.\n"
   ]
  },
  {
   "cell_type": "code",
   "execution_count": null,
   "metadata": {},
   "outputs": [],
   "source": [
    "library(ggplot2)"
   ]
  },
  {
   "cell_type": "markdown",
   "metadata": {},
   "source": [
    "Our variable of interest is a time series, so why not start by taking a look at it in it's natural form?\n",
    "\n",
    "### Task 10 - Create a scatter plot of `RENTED_BIKE_COUNT` vs `DATE`. \n",
    "Tune the opacity using the `alpha` parameter such that the points don't obscure each other too much.\n",
    "### Solution 10\n"
   ]
  },
  {
   "cell_type": "code",
   "execution_count": null,
   "metadata": {},
   "outputs": [],
   "source": [
    "ggplot(data = seoul_bike_sharing_2, mapping = aes(x = DATE, y = RENTED_BIKE_COUNT)) +\n",
    "   geom_point() +\n",
    "   ggtitle(\"Rented_Bike_Count vs Date\")"
   ]
  },
  {
   "cell_type": "markdown",
   "metadata": {},
   "source": [
    "### Ungraded Task: We can see some patterns emerging here.\n",
    "Describe them and keep your findings for your presentation in the final project.\n"
   ]
  },
  {
   "cell_type": "markdown",
   "metadata": {},
   "source": [
    "### Solution\n"
   ]
  },
  {
   "cell_type": "markdown",
   "metadata": {},
   "source": [
    "#### provide your solution here\n"
   ]
  },
  {
   "cell_type": "markdown",
   "metadata": {},
   "source": [
    "### Using colour\n",
    "Let's see if we can enhance some of these features by incorporating colour. Given our observations so far, `HOURS` is a great candidate for this task.  \n",
    "\n",
    "### Task 11 - Create the same plot of the `RENTED_BIKE_COUNT` time series, but now add `HOURS` as the colour.\n",
    "### Solution 11\n"
   ]
  },
  {
   "cell_type": "code",
   "execution_count": null,
   "metadata": {},
   "outputs": [],
   "source": [
    "ggplot(data = seoul_bike_sharing_2, mapping = aes(x = DATE, y = RENTED_BIKE_COUNT, colour = HOUR)) +\n",
    "   geom_point() +\n",
    "   ggtitle(\"Rented_Bike_Count vs Date\")"
   ]
  },
  {
   "cell_type": "markdown",
   "metadata": {},
   "source": [
    "### Ungraded Task: The trends are much more clear now. \n",
    "Describe them and keep your findings for your presentation in the final project.\n"
   ]
  },
  {
   "cell_type": "markdown",
   "metadata": {},
   "source": [
    "### Solution\n"
   ]
  },
  {
   "cell_type": "markdown",
   "metadata": {},
   "source": [
    "#### provide your solution here\n"
   ]
  },
  {
   "cell_type": "markdown",
   "metadata": {},
   "source": [
    "## Distributions\n"
   ]
  },
  {
   "cell_type": "markdown",
   "metadata": {},
   "source": [
    "### Task 12 - Create a histogram overlaid with a kernel density curve\n",
    "Normalize the histogram so the y axis represents 'density'. This can be done by setting `y=..density..` in the aesthetics of the histogram.\n"
   ]
  },
  {
   "cell_type": "markdown",
   "metadata": {},
   "source": [
    "<details><summary>Click here for a hint</summary>\n",
    "Set the colour to something like black and the fill to white so you can see the kernel density plot layer better.\n"
   ]
  },
  {
   "cell_type": "markdown",
   "metadata": {},
   "source": [
    "<details><summary>Click here for another hint</summary>\n",
    "Set the color and alpha such that your denstiy plot is clearly visible, without obscuring the histogram. \n"
   ]
  },
  {
   "cell_type": "markdown",
   "metadata": {},
   "source": [
    "### Solution 12\n"
   ]
  },
  {
   "cell_type": "code",
   "execution_count": null,
   "metadata": {},
   "outputs": [],
   "source": [
    "# Plot histogram of the variables\n",
    "ggplot(seoul_bike_sharing_2, aes(x=RENTED_BIKE_COUNT)) + \n",
    "  geom_histogram()"
   ]
  },
  {
   "cell_type": "markdown",
   "metadata": {},
   "source": [
    "### Ungraded Task: Describe the main features you see in your plot.\n",
    "Consider what it's shape tells you, and keep your findings for your presentation in the final project. \n"
   ]
  },
  {
   "cell_type": "markdown",
   "metadata": {},
   "source": [
    "<details><summary>Click here for a solution</summary>\n",
    "    \n",
    "We can see from the histogram that most of the time there are relatively few bikes rented. Indeed, the 'mode', or most frequent amount of bikes rented, is about 250.  \n",
    "\n",
    "Judging by the 'bumps' at about 700, 900, and 1900, and 3200 bikes, it looks like there may be other modes hiding within subgroups of the data. \n",
    "\n",
    "Interestingly, judging from the tail of the distribution, on rare occasions there are many more bikes rented out than usual.\n"
   ]
  },
  {
   "cell_type": "markdown",
   "metadata": {},
   "source": [
    "## Correlation between two variables (scatter plot)\n",
    "### Task 13 - Use a scatter plot to visualize the correlation between `RENTED_BIKE_COUNT` and `TEMPERATURE` by `SEASONS`.\n",
    "Start with `RENTED_BIKE_COUNT` vs. `TEMPERATURE`, then generate four plots corresponding to the `SEASONS` by adding a `facet_wrap()` layer.\n",
    "Also, make use of colour and opacity to emphasize any patterns that emerge. Use `HOUR` as the color.\n",
    "\n",
    "### Solution 13\n"
   ]
  },
  {
   "cell_type": "code",
   "execution_count": null,
   "metadata": {},
   "outputs": [],
   "source": [
    "# provide your solution here"
   ]
  },
  {
   "cell_type": "markdown",
   "metadata": {},
   "source": [
    "### Ungraded Task: Describe the patterns you see. \n",
    "What do these patterns imply about the relationships between these variables? Keep your findings for your presentation in the final project.\n"
   ]
  },
  {
   "cell_type": "markdown",
   "metadata": {},
   "source": [
    "<details><summary>Click here for a solution</summary>\n",
    "    \n",
    "Visually, we can see some strong correlations as approximately linear patterns.  \n"
   ]
  },
  {
   "cell_type": "markdown",
   "metadata": {},
   "source": [
    "Comparing this plot to the same plot below, but without grouping by `SEASONS`, shows how important seasonality is in explaining bike rental counts.  \n"
   ]
  },
  {
   "cell_type": "code",
   "execution_count": null,
   "metadata": {},
   "outputs": [],
   "source": [
    "ggplot(seoul_bike_sharing) +\n",
    "   geom_point(aes(x=TEMPERATURE,y=RENTED_BIKE_COUNT,colour=HOUR),alpha=1/5)"
   ]
  },
  {
   "cell_type": "markdown",
   "metadata": {},
   "source": [
    "## Outliers (boxplot)\n",
    "### Task 14 - Create a display of four boxplots of `RENTED_BIKE_COUNT` vs. `HOUR` grouped by `SEASONS`.\n",
    "Use `facet_wrap` to generate four plots corresponding to the seasons.\n",
    "\n",
    "### Solution 14\n"
   ]
  },
  {
   "cell_type": "code",
   "execution_count": null,
   "metadata": {},
   "outputs": [],
   "source": [
    "# provide your solution here\n"
   ]
  },
  {
   "cell_type": "markdown",
   "metadata": {},
   "source": [
    "### Ungraded Task: Compare and contrast the key features of these boxplots between seasons.\n",
    "At this point, a story should be taking shape. Again, keep your findings for your presentation in the final project. \n"
   ]
  },
  {
   "cell_type": "markdown",
   "metadata": {},
   "source": [
    "<details><summary>Click here for a solution</summary>\n",
    "    \n",
    "Although the overall scale of bike rental counts changes with the seasons, key features remain very similar.  \n",
    "For example, peak demand times are the same across all seasons, at 8 am and 6 pm.  \n"
   ]
  },
  {
   "cell_type": "markdown",
   "metadata": {},
   "source": [
    "### Task 15 - Group the data by `DATE`, and use the summarize() function to calculate the daily total rainfall and snowfall.\n",
    "Also, go ahead and plot the results if you wish.\n",
    "### Solution 15\n"
   ]
  },
  {
   "cell_type": "code",
   "execution_count": null,
   "metadata": {},
   "outputs": [],
   "source": [
    "# provide your solution here"
   ]
  },
  {
   "cell_type": "markdown",
   "metadata": {},
   "source": [
    "### Task 16 - Determine how many days had snowfall.\n",
    "### Solution 16\n"
   ]
  },
  {
   "cell_type": "code",
   "execution_count": null,
   "metadata": {},
   "outputs": [],
   "source": [
    "# provide your solution here"
   ]
  },
  {
   "cell_type": "markdown",
   "metadata": {},
   "source": [
    "There are many more visualizations we could have chosen to cover here, but the important thing was that you deepen your understanding of the dataset.  \n",
    "I hope we succeeded in that endeavour! \n",
    "\n",
    "(Keep going, you are getting closer to the finish line with each step you take. :-) )\n"
   ]
  },
  {
   "cell_type": "markdown",
   "metadata": {},
   "source": [
    "## Further Reading\n",
    "[1] 'Causal Model' (2021) _Wikipedia_. Available at \"https://en.wikipedia.org/wiki/Causal_model\" (Accessed: 22 April 2021).\n"
   ]
  },
  {
   "cell_type": "markdown",
   "metadata": {},
   "source": [
    "## Author(s)\n",
    "\n",
    "<h4> Jeff Grossman </h4>\n",
    "\n",
    "## Contributor(s)\n",
    "\n",
    "<h4> Yan Luo, Rav Ahuja </h4>\n",
    "\n",
    "## Change log\n",
    "\n",
    "| Date       | Version | Changed by    | Change Description                                                                                          |\n",
    "| ---------- | ------- | ------------- | ----------------------------------------------------------------------------------------------------------- |\n",
    "| 2021-05-04 | 0.4     | Jeff Grossman | Remove solutions                                                                                           |\n",
    "| 2021-04-23 | 0.3     | Jeff Grossman | Update per review                                                                                           |\n",
    "| 2021-04-20 | 0.2     | Jeff Grossman | Push for peer review                                                                                        | \n",
    "| 2021-04-05 | 0.1     | Jeff Grossman | Start content creation                                                                                    |\n",
    "\n",
    "\n",
    "## <h3 align=\"center\"> © IBM Corporation 2021. All rights reserved. <h3/>\n"
   ]
  },
  {
   "cell_type": "code",
   "execution_count": null,
   "metadata": {},
   "outputs": [],
   "source": []
  }
 ],
 "metadata": {
  "kernelspec": {
   "display_name": "R",
   "language": "R",
   "name": "conda-env-r-r"
  },
  "language_info": {
   "codemirror_mode": "r",
   "file_extension": ".r",
   "mimetype": "text/x-r-source",
   "name": "R",
   "pygments_lexer": "r",
   "version": "3.5.1"
  }
 },
 "nbformat": 4,
 "nbformat_minor": 4
}
